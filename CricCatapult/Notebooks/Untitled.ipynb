{
 "cells": [
  {
   "cell_type": "code",
   "execution_count": 7,
   "id": "3781f47b",
   "metadata": {},
   "outputs": [],
   "source": [
    "from lib2to3.pgen2.pgen import DFAState\n",
    "import pandas as pd\n",
    "import numpy as np\n",
    "import matplotlib.pyplot as plt\n",
    "import requests\n",
    "from bs4 import BeautifulSoup\n",
    "pd.options.display.max_columns = None\n",
    "pd.options.display.max_rows = None"
   ]
  },
  {
   "cell_type": "code",
   "execution_count": 2,
   "id": "e142f694",
   "metadata": {},
   "outputs": [],
   "source": [
    "import ssl\n",
    "ssl._create_default_https_context = ssl._create_unverified_context"
   ]
  },
  {
   "cell_type": "code",
   "execution_count": 9,
   "id": "c686aac3",
   "metadata": {},
   "outputs": [
    {
     "name": "stdout",
     "output_type": "stream",
     "text": [
      "[                                                   0  \\\n",
      "0  Team records |  Batting records |  Bowling rec...   \n",
      "\n",
      "                                                   1  \n",
      "0  Player averages  Career batting (current playe...  ,                                                    0\n",
      "0  Team records  Series results  Test matches |  ...,                                                    0\n",
      "0  Batting records  Most runs  Test matches |  On...,                                                    0\n",
      "0  Bowling records  Most wickets  Test matches | ...,                                                    0\n",
      "0  Wicketkeeping records  Most dismissals  Test m...,                                                    0\n",
      "0  Fielding records  Most catches  Test matches |...,                                                    0\n",
      "0  Partnership records  Highest partnerships by w...,                                                    0\n",
      "0  Individual records (captains, players, umpires...,                                                    0\n",
      "0  Player averages  Career batting (current playe...,                                                    0\n",
      "0  More records  Records against India  Records i...]\n"
     ]
    }
   ],
   "source": [
    "df = pd.read_html(\n",
    "    'https://stats.espncricinfo.com/ci/engine/records/index.html?id=6;type=team#bowling')\n",
    "print(df)"
   ]
  },
  {
   "cell_type": "code",
   "execution_count": 11,
   "id": "971c4eb2",
   "metadata": {},
   "outputs": [
    {
     "data": {
      "text/plain": [
       "list"
      ]
     },
     "execution_count": 11,
     "metadata": {},
     "output_type": "execute_result"
    }
   ],
   "source": [
    "type(df)"
   ]
  },
  {
   "cell_type": "code",
   "execution_count": 10,
   "id": "30cc9782",
   "metadata": {},
   "outputs": [
    {
     "ename": "AttributeError",
     "evalue": "'list' object has no attribute 'style'",
     "output_type": "error",
     "traceback": [
      "\u001b[0;31m---------------------------------------------------------------------------\u001b[0m",
      "\u001b[0;31mAttributeError\u001b[0m                            Traceback (most recent call last)",
      "Input \u001b[0;32mIn [10]\u001b[0m, in \u001b[0;36m<cell line: 1>\u001b[0;34m()\u001b[0m\n\u001b[0;32m----> 1\u001b[0m s \u001b[38;5;241m=\u001b[39m \u001b[43mdf\u001b[49m\u001b[38;5;241;43m.\u001b[39;49m\u001b[43mstyle\u001b[49m\u001b[38;5;241m.\u001b[39mset_table_styles([\n\u001b[1;32m      2\u001b[0m         {\n\u001b[1;32m      3\u001b[0m             \u001b[38;5;124m\"\u001b[39m\u001b[38;5;124mselector\u001b[39m\u001b[38;5;124m\"\u001b[39m: \u001b[38;5;124m\"\u001b[39m\u001b[38;5;124mthead\u001b[39m\u001b[38;5;124m\"\u001b[39m,\n\u001b[1;32m      4\u001b[0m             \u001b[38;5;124m\"\u001b[39m\u001b[38;5;124mprops\u001b[39m\u001b[38;5;124m\"\u001b[39m: [(\u001b[38;5;124m\"\u001b[39m\u001b[38;5;124mbackground-color\u001b[39m\u001b[38;5;124m\"\u001b[39m, \u001b[38;5;124m\"\u001b[39m\u001b[38;5;124mdodgerblue\u001b[39m\u001b[38;5;124m\"\u001b[39m), (\u001b[38;5;124m\"\u001b[39m\u001b[38;5;124mcolor\u001b[39m\u001b[38;5;124m\"\u001b[39m, \u001b[38;5;124m\"\u001b[39m\u001b[38;5;124mwhite\u001b[39m\u001b[38;5;124m\"\u001b[39m),\n\u001b[1;32m      5\u001b[0m                       (\u001b[38;5;124m\"\u001b[39m\u001b[38;5;124mborder\u001b[39m\u001b[38;5;124m\"\u001b[39m, \u001b[38;5;124m\"\u001b[39m\u001b[38;5;124m3px solid red\u001b[39m\u001b[38;5;124m\"\u001b[39m),\n\u001b[1;32m      6\u001b[0m                       ]\n\u001b[1;32m      7\u001b[0m         },\n\u001b[1;32m      8\u001b[0m     ])\n",
      "\u001b[0;31mAttributeError\u001b[0m: 'list' object has no attribute 'style'"
     ]
    }
   ],
   "source": [
    "s = df.style.set_table_styles([\n",
    "        {\n",
    "            \"selector\": \"thead\",\n",
    "            \"props\": [(\"background-color\", \"dodgerblue\"), (\"color\", \"white\"),\n",
    "                      (\"border\", \"3px solid red\"),\n",
    "                      ]\n",
    "        },\n",
    "    ])\n"
   ]
  },
  {
   "cell_type": "code",
   "execution_count": null,
   "id": "338f2d57",
   "metadata": {},
   "outputs": [],
   "source": []
  }
 ],
 "metadata": {
  "kernelspec": {
   "display_name": "Python 3 (ipykernel)",
   "language": "python",
   "name": "python3"
  },
  "language_info": {
   "codemirror_mode": {
    "name": "ipython",
    "version": 3
   },
   "file_extension": ".py",
   "mimetype": "text/x-python",
   "name": "python",
   "nbconvert_exporter": "python",
   "pygments_lexer": "ipython3",
   "version": "3.8.8"
  }
 },
 "nbformat": 4,
 "nbformat_minor": 5
}
