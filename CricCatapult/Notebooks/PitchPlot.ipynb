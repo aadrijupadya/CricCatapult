{
 "cells": [
  {
   "cell_type": "code",
   "execution_count": 29,
   "id": "4ba6d0f4",
   "metadata": {},
   "outputs": [],
   "source": [
    "import matplotlib.pyplot as plt\n",
    "import seaborn as sns"
   ]
  },
  {
   "cell_type": "code",
   "execution_count": 73,
   "id": "1c3eb655",
   "metadata": {},
   "outputs": [],
   "source": [
    "spadl_config = {\n",
    " \"length\": 3.66,\n",
    " \"width\": 22.56,\n",
    "\"origin_x\": 0,\n",
    " \"origin_y\": 0,\n",
    "}\n",
    "plt.rcParams['figure.figsize'] = [2, 6]\n",
    "def plot_rectangle(x1, y1, x2, y2, ax, color):\n",
    " ax.plot([x1, x1], [y1, y2], color=color)\n",
    " ax.plot([x2, x2], [y1, y2], color=color)\n",
    " ax.plot([x1, x2], [y1, y1], color=color)\n",
    " ax.plot([x1, x2], [y2, y2], color=color)\n",
    " ax.set_facecolor(\"green\")\n",
    "def pitch(list1, list2, speeds, ax=None,linecolor=\"green\",fieldcolor=None,alpha=1,figsize=None,pitch_config=spadl_config,show=True):\n",
    "     cfg = pitch_config\n",
    "\n",
    "     # Create figure\n",
    "     if ax is None:\n",
    "         fig = plt.figure()\n",
    "         ax = fig.gca()\n",
    "    # Pitch Outline \n",
    "     x1, y1, x2, y2 = (\n",
    "     cfg[\"origin_x\"],\n",
    "     cfg[\"origin_y\"],\n",
    "     cfg[\"origin_x\"] + cfg[\"length\"],\n",
    "     cfg[\"origin_y\"] + cfg[\"width\"],\n",
    "     )\n",
    "    \n",
    "     plot_rectangle(x1, y1, x2, y2, ax=ax, color=linecolor)\n",
    "    #lower crease rectangle\n",
    "     x1 = 0.51\n",
    "     x2 = 3.15\n",
    "     y1 = 1.22\n",
    "     y2 = 2.44\n",
    "     plot_rectangle(x1, y1, x2, y2, ax=ax, color='white')\n",
    "    # upper crease rectangle\n",
    "     x1 = 0.51\n",
    "     x2 = 3.15\n",
    "     y1 = 20.12\n",
    "     y2 = 21.34\n",
    "     plot_rectangle(x1, y1, x2, y2, ax=ax, color='white')\n",
    "     plt.axvline(x = 0.51, color = 'white')\n",
    "     plt.axvline(x = 3.15, color = 'white')\n",
    "     plt.axhline(y = 20.12, color = 'white', linestyle = '-')\n",
    "     plt.axhline(y = 2.44, color = 'white', linestyle = '-')\n",
    "     plt.axhline(y = 18, color = 'blue', linestyle = '-')\n",
    "     plt.axhline(y = 12, color = 'black', linestyle = '-')\n",
    "     plt.axhline(y = 10, color = 'red', linestyle = '-')\n",
    "     \n",
    "     plt.text(2,19, \"Yorker\")\n",
    "     plt.text(2,13, \"Full\")\n",
    "     plt.text(2,11, \"Good\")\n",
    "     plt.text(2,8, \"Short\")\n",
    "     plt.ylabel(\"Length of pitch (m)\")\n",
    "     ax = sns.scatterplot(list1,list2, hue = speeds,palette='hot')\n",
    "     norm = plt.Normalize(min(speeds),max(speeds))\n",
    "     sm = plt.cm.ScalarMappable(cmap=\"hot\", norm=norm)\n",
    "     \n",
    "     sm.set_array([])\n",
    "# Remove the legend and add a colorbar\n",
    "     ax.get_legend().remove()\n",
    "     ax.figure.colorbar(sm)\n",
    "    # plt.axis(“off”)\n",
    "     if show:\n",
    "         plt.show()\n",
    "     return ax"
   ]
  },
  {
   "cell_type": "code",
   "execution_count": 74,
   "id": "fe15bd33",
   "metadata": {},
   "outputs": [
    {
     "name": "stderr",
     "output_type": "stream",
     "text": [
      "/Library/Frameworks/Python.framework/Versions/3.8/lib/python3.8/site-packages/seaborn/_decorators.py:36: FutureWarning: Pass the following variables as keyword args: x, y. From version 0.12, the only valid positional argument will be `data`, and passing other arguments without an explicit keyword will result in an error or misinterpretation.\n",
      "  warnings.warn(\n"
     ]
    },
    {
     "data": {
      "text/plain": [
       "<AxesSubplot:ylabel='Length of pitch (m)'>"
      ]
     },
     "execution_count": 74,
     "metadata": {},
     "output_type": "execute_result"
    },
    {
     "data": {
      "image/png": "[encoded data removed]",
      "text/plain": [
       "<Figure size 144x432 with 2 Axes>"
      ]
     },
     "metadata": {
      "needs_background": "light"
     },
     "output_type": "display_data"
    }
   ],
   "source": [
    "pitch([1.62, 1.65, 1.64, 0.89, 0.92], [11.89, 10.47, 10.2, 11.33, 10.57], [140.91, 130.05, 132.21, 133.27, 139.75], show=False)\n"
   ]
  },
  {
   "cell_type": "markdown",
   "id": "e5d3771b",
   "metadata": {},
   "source": [
    "https://itsmenishantsinghsiddhu.medium.com/creating-bowlers-pitch-map-in-python-cricket-787b84523ee2"
   ]
  },
  {
   "cell_type": "code",
   "execution_count": 32,
   "id": "274ca4b2",
   "metadata": {},
   "outputs": [
    {
     "ename": "SyntaxError",
     "evalue": "invalid character in identifier (1154383950.py, line 1)",
     "output_type": "error",
     "traceback": [
      "\u001b[0;36m  Input \u001b[0;32mIn [32]\u001b[0;36m\u001b[0m\n\u001b[0;31m    ax = sns.scatterplot(balls_xy.iloc[:,0],balls_xy.iloc[:,1], hue = balls_xy.iloc[:,3],palette=’hot’)\u001b[0m\n\u001b[0m                                                                                                     ^\u001b[0m\n\u001b[0;31mSyntaxError\u001b[0m\u001b[0;31m:\u001b[0m invalid character in identifier\n"
     ]
    }
   ],
   "source": [
    "ax = sns.scatterplot(balls_xy.iloc[:,0],balls_xy.iloc[:,1], hue = balls_xy.iloc[:,3],palette='hot')\n",
    "norm = plt.Normalize(balls_xy.iloc[:,3].min(), balls_xy.iloc[:,3].max())\n",
    "sm = plt.cm.ScalarMappable(cmap=\"hot\", norm=norm)\n",
    "sm.set_array([])\n",
    "# Remove the legend and add a colorbar\n",
    "ax.get_legend().remove()\n",
    "ax.figure.colorbar(sm)"
   ]
  },
  {
   "cell_type": "code",
   "execution_count": null,
   "id": "df89d399",
   "metadata": {},
   "outputs": [],
   "source": []
  }
 ],
 "metadata": {
  "kernelspec": {
   "display_name": "Python 3 (ipykernel)",
   "language": "python",
   "name": "python3"
  },
  "language_info": {
   "codemirror_mode": {
    "name": "ipython",
    "version": 3
   },
   "file_extension": ".py",
   "mimetype": "text/x-python",
   "name": "python",
   "nbconvert_exporter": "python",
   "pygments_lexer": "ipython3",
   "version": "3.8.8"
  }
 },
 "nbformat": 4,
 "nbformat_minor": 5
}
