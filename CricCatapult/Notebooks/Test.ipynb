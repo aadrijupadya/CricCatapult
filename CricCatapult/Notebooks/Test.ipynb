{
 "cells": [
  {
   "cell_type": "code",
   "execution_count": 4,
   "id": "a0059b7a",
   "metadata": {},
   "outputs": [
    {
     "name": "stdout",
     "output_type": "stream",
     "text": [
      "0     Southampton Cricket Ground\n",
      "Name: 1, dtype: object\n",
      "None\n",
      "None\n"
     ]
    }
   ],
   "source": [
    "import pandas as pd\n",
    "import numpy as np\n",
    "import matplotlib.pyplot as plt\n",
    "import requests\n",
    "from bs4 import BeautifulSoup\n",
    "import geocoder\n",
    "import folium \n",
    "import webbrowser\n",
    "\n",
    "class Location(object):\n",
    "    def __init__(self, match_id):\n",
    "        self.url = \"https://stats.espncricinfo.com/ci/engine/match/\" + str(match_id) + \".html\"\n",
    "        self.page = requests.get(self.url)\n",
    "        self.soup = BeautifulSoup(self.page.content, 'html.parser')\n",
    "\n",
    "    def get_location(self):\n",
    "        address = self.soup.find_all(\"div\", class_=\"ds-p-0\")\n",
    "        text_list = []\n",
    "        for address in address:\n",
    "            for i in address:\n",
    "                for element in i:\n",
    "                    text_list.append(element.text)\n",
    "        print(pd.Series(text_list[0]).str.split(pat=\",\", expand=True)[1] + \" Cricket Ground\")\n",
    "    \n",
    "    def get_map(self):\n",
    "        address = self.soup.find_all(\"div\", class_=\"ds-p-0\")\n",
    "        text_list = []\n",
    "        for address in address:\n",
    "            for i in address:\n",
    "                for element in i:\n",
    "                    text_list.append(element.text)\n",
    "        venue = str(pd.Series(text_list[0]).str.split(pat=\",\", expand=True)[1] + \" Cricket\")\n",
    "        g = geocoder.mapbox(venue, key=\"pk.eyJ1Ijoic3VtYW50aHBhbCIsImEiOiJjbDJycHl0bGwzNzM3M2Nsd3Y1dzZtdHBuIn0.C8bl-xGiXrmz_WBAeYpOsA\")\n",
    "        map = folium.Map(location=(g.latlng), zoom_start=8)\n",
    "        folium.Marker((g.latlng)).add_to(map)\n",
    "        map.save(\"map.html\")\n",
    "        webbrowser.open(\"map.html\")\n",
    "\n",
    "print(Location(\"1249875\").get_location())\n",
    "print(Location(\"1249875\").get_map())"
   ]
  },
  {
   "cell_type": "code",
   "execution_count": null,
   "id": "96547989",
   "metadata": {},
   "outputs": [],
   "source": []
  },
  {
   "cell_type": "code",
   "execution_count": null,
   "id": "e5e01ded",
   "metadata": {},
   "outputs": [],
   "source": []
  }
 ],
 "metadata": {
  "kernelspec": {
   "display_name": "Python 3 (ipykernel)",
   "language": "python",
   "name": "python3"
  },
  "language_info": {
   "codemirror_mode": {
    "name": "ipython",
    "version": 3
   },
   "file_extension": ".py",
   "mimetype": "text/x-python",
   "name": "python",
   "nbconvert_exporter": "python",
   "pygments_lexer": "ipython3",
   "version": "3.8.8"
  }
 },
 "nbformat": 4,
 "nbformat_minor": 5
}
